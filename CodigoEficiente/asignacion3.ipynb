{
 "cells": [
  {
   "cell_type": "code",
   "execution_count": 1,
   "metadata": {},
   "outputs": [],
   "source": [
    "import time as time\n",
    "import pandas as pd\n",
    "import numpy as np"
   ]
  },
  {
   "cell_type": "code",
   "execution_count": 36,
   "metadata": {},
   "outputs": [
    {
     "name": "stdout",
     "output_type": "stream",
     "text": [
      "costo    30338353\n",
      "dtype: int64\n",
      "Duracion: 1.0553748607635498 segundos\n"
     ]
    }
   ],
   "source": [
    "#Solucion #1\n",
    "\n",
    "inicio = time.time()\n",
    "df = pd.read_csv('costos.txt',header=None)\n",
    "df.columns = ['costo'] \n",
    "\n",
    "#Sacamos la suma de todos los costos menores a $25\n",
    "costomenor25 = df[df[\"costo\"] < 25].sum() \n",
    "\n",
    "print(costomenor25)\n",
    "print('Duracion: {} segundos'.format(time.time() - inicio))"
   ]
  },
  {
   "cell_type": "code",
   "execution_count": 37,
   "metadata": {},
   "outputs": [
    {
     "name": "stdout",
     "output_type": "stream",
     "text": [
      "costo    30338353\n",
      "dtype: int64\n",
      "Duracion: 0.10374951362609863 segundos\n"
     ]
    }
   ],
   "source": [
    "#Solucion #2\n",
    "\n",
    "inicio = time.time()\n",
    "df.columns = ['costo']\n",
    "\n",
    "#Sacamos la suma de todos los costos menores a $25\n",
    "costomenor25 = df.loc[df['costo'] < 25].sum()\n",
    "\n",
    "print(costomenor25)\n",
    "print('Duracion: {} segundos'.format(time.time() - inicio))"
   ]
  }
 ],
 "metadata": {
  "kernelspec": {
   "display_name": "Python 3.8.5 64-bit",
   "language": "python",
   "name": "python38564bit230c93dcc7ac41a18d590324ff32c075"
  },
  "language_info": {
   "codemirror_mode": {
    "name": "ipython",
    "version": 3
   },
   "file_extension": ".py",
   "mimetype": "text/x-python",
   "name": "python",
   "nbconvert_exporter": "python",
   "pygments_lexer": "ipython3",
   "version": "3.8.5"
  }
 },
 "nbformat": 4,
 "nbformat_minor": 4
}
