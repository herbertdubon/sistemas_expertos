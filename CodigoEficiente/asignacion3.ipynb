{
 "cells": [
  {
   "cell_type": "code",
   "execution_count": 2,
   "metadata": {},
   "outputs": [],
   "source": [
    "import time as time\n",
    "import pandas as pd\n",
    "import numpy as np\n",
    "import re"
   ]
  },
  {
   "cell_type": "code",
   "execution_count": 5,
   "metadata": {
    "tags": []
   },
   "outputs": [
    {
     "output_type": "stream",
     "name": "stdout",
     "text": "costo    30338353\ndtype: int64\nDuracion: 1.3354074954986572 segundos\n"
    }
   ],
   "source": [
    "#Solucion #1\n",
    "\n",
    "inicio = time.time()\n",
    "df = pd.read_csv('costos.txt',header=None)\n",
    "df.columns = ['costo'] \n",
    "\n",
    "#Sacamos la suma de todos los costos menores a $25\n",
    "costomenor25 = df[df[\"costo\"] < 25].sum() \n",
    "\n",
    "print(costomenor25)\n",
    "print('Duracion: {} segundos'.format(time.time() - inicio))"
   ]
  },
  {
   "cell_type": "code",
   "execution_count": 19,
   "metadata": {
    "tags": []
   },
   "outputs": [
    {
     "output_type": "stream",
     "name": "stdout",
     "text": "costo    30338353\ndtype: int64\nDuracion: 0.11565661430358887 segundos\n"
    }
   ],
   "source": [
    "#Solucion #2\n",
    "\n",
    "inicio = time.time()\n",
    "df.columns = ['costo']\n",
    "\n",
    "#Sacamos la suma de todos los costos menores a $25\n",
    "costomenor25 = df.loc[df['costo'] < 25].sum()\n",
    "\n",
    "print(costomenor25)\n",
    "print('Duracion: {} segundos'.format(time.time() - inicio))"
   ]
  },
  {
   "cell_type": "code",
   "execution_count": null,
   "metadata": {},
   "outputs": [],
   "source": []
  }
 ],
 "metadata": {
  "kernelspec": {
   "display_name": "Python 3.8.5 64-bit",
   "language": "python",
   "name": "python38564bit230c93dcc7ac41a18d590324ff32c075"
  },
  "language_info": {
   "codemirror_mode": {
    "name": "ipython",
    "version": 3
   },
   "file_extension": ".py",
   "mimetype": "text/x-python",
   "name": "python",
   "nbconvert_exporter": "python",
   "pygments_lexer": "ipython3",
   "version": "3.8.5-final"
  }
 },
 "nbformat": 4,
 "nbformat_minor": 4
}